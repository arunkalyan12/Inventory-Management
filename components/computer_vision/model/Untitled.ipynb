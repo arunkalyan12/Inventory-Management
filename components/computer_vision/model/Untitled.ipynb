{
 "cells": [
  {
   "cell_type": "code",
   "execution_count": 1,
   "id": "b3e71528-b99b-4e3d-80b5-4543342f624a",
   "metadata": {},
   "outputs": [],
   "source": [
    "from mlflow import MlflowClient\n",
    "\n",
    "client = MlflowClient(tracking_uri=\"http://127.0.0.1:8080\")"
   ]
  },
  {
   "cell_type": "code",
   "execution_count": 2,
   "id": "6b4e4c14-1a66-4cb3-ad63-a413503808a4",
   "metadata": {},
   "outputs": [
    {
     "name": "stdout",
     "output_type": "stream",
     "text": [
      "[<Experiment: artifact_location='mlflow-artifacts:/0', creation_time=1756658899765, experiment_id='0', last_update_time=1756658899765, lifecycle_stage='active', name='Default', tags={}>]\n"
     ]
    }
   ],
   "source": [
    "all_experiments = client.search_experiments()\n",
    "\n",
    "print(all_experiments)"
   ]
  },
  {
   "cell_type": "code",
   "execution_count": 3,
   "id": "10aa63de-c31b-4565-b90e-1e5dd745981d",
   "metadata": {},
   "outputs": [
    {
     "name": "stdout",
     "output_type": "stream",
     "text": [
      "YOLOv5 Experiment ID: 793189838360951435\n",
      "YOLOv8 Experiment ID: 800775530071017021\n"
     ]
    }
   ],
   "source": [
    "import mlflow\n",
    "from mlflow.tracking import MlflowClient\n",
    "\n",
    "mlflow.set_tracking_uri(\"http://127.0.0.1:8080\")\n",
    "client = MlflowClient()\n",
    "\n",
    "# Common description\n",
    "experiment_description = (\n",
    "    \"YOLO object detection training for the Inventory Management project. \"\n",
    "    \"Experiments compare YOLOv5 and YOLOv8 on the Final Data dataset.\"\n",
    ")\n",
    "\n",
    "# Register YOLOv5 experiment\n",
    "yolov5_id = client.create_experiment(\n",
    "    name=\"YOLOv5_Inventory_Training\",\n",
    "    tags={\n",
    "        \"project_name\": \"inventory-detection\",\n",
    "        \"component\": \"computer_vision\",\n",
    "        \"framework\": \"YOLOv5\",\n",
    "        \"dataset\": \"Final Data\",\n",
    "        \"mlflow.note.content\": experiment_description,\n",
    "    },\n",
    ")\n",
    "\n",
    "# Register YOLOv8 experiment\n",
    "yolov8_id = client.create_experiment(\n",
    "    name=\"YOLOv8_Inventory_Training\",\n",
    "    tags={\n",
    "        \"project_name\": \"inventory-detection\",\n",
    "        \"component\": \"computer_vision\",\n",
    "        \"framework\": \"YOLOv8\",\n",
    "        \"dataset\": \"Final Data\",\n",
    "        \"mlflow.note.content\": experiment_description,\n",
    "    },\n",
    ")\n",
    "\n",
    "print(\"YOLOv5 Experiment ID:\", yolov5_id)\n",
    "print(\"YOLOv8 Experiment ID:\", yolov8_id)\n"
   ]
  },
  {
   "cell_type": "code",
   "execution_count": null,
   "id": "7cdd2be7-762f-4a69-841f-1a2a9884fc13",
   "metadata": {},
   "outputs": [],
   "source": []
  }
 ],
 "metadata": {
  "kernelspec": {
   "display_name": "Python 3 (ipykernel)",
   "language": "python",
   "name": "python3"
  },
  "language_info": {
   "codemirror_mode": {
    "name": "ipython",
    "version": 3
   },
   "file_extension": ".py",
   "mimetype": "text/x-python",
   "name": "python",
   "nbconvert_exporter": "python",
   "pygments_lexer": "ipython3",
   "version": "3.10.11"
  }
 },
 "nbformat": 4,
 "nbformat_minor": 5
}
